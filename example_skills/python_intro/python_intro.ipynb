{
 "cells": [
  {
   "cell_type": "code",
   "execution_count": 3,
   "metadata": {},
   "outputs": [],
   "source": [
    "# This line is a comment because it begins with '#'. It doesn't do anything.\n",
    "# \n",
    "# This tutorial introduces some of the  ideas we'll use for building an Alexa skill.\n",
    "# The code is written in Python 3 - a high level programming language that's \n",
    "# great for beginners\n",
    "# \n",
    "# We'll run the tutorial using https://trinket.io. Create an account there and start \n",
    "# a new 'Python 3' trinket.\n",
    "# \n",
    "# Copy and paste the blocks below into the window one at a time. Start with this block.\n",
    "# Use the 'run' button to run your code and see what happens. Try changing the blocks\n",
    "# to see what happens. You can't really go wrong - in the worst case just delete and\n",
    "# start over!\n",
    "# \n",
    "# [NOTE: This is a Jupyter Notebook (https://jupyter.org/) so you can also run directly \n",
    "# if you have Jupyter installed]"
   ]
  },
  {
   "cell_type": "code",
   "execution_count": 4,
   "metadata": {},
   "outputs": [
    {
     "name": "stdout",
     "output_type": "stream",
     "text": [
      "3\n"
     ]
    }
   ],
   "source": [
    "# 'a' is a variable, in this block it's set to be the number 3\n",
    "# Try to: change the value of 'a'\n",
    "\n",
    "a = 3\n",
    "print (a)"
   ]
  },
  {
   "cell_type": "code",
   "execution_count": 5,
   "metadata": {},
   "outputs": [
    {
     "name": "stdout",
     "output_type": "stream",
     "text": [
      "3\n",
      "4\n",
      "3 4\n"
     ]
    }
   ],
   "source": [
    "# 'b' is another variable\n",
    "# Try to: change the value of 'a' and 'b'\n",
    "\n",
    "b = 4\n",
    "print (a)\n",
    "print (b)\n",
    "print (a,b)"
   ]
  },
  {
   "cell_type": "code",
   "execution_count": 6,
   "metadata": {},
   "outputs": [
    {
     "name": "stdout",
     "output_type": "stream",
     "text": [
      "6\n",
      "7\n"
     ]
    }
   ],
   "source": [
    "# You can add variables together using '+'\n",
    "# Try to: add three numbers together\n",
    "\n",
    "c = a + 3\n",
    "print (c)\n",
    "\n",
    "d = a + b\n",
    "print (d)"
   ]
  },
  {
   "cell_type": "code",
   "execution_count": 7,
   "metadata": {},
   "outputs": [
    {
     "name": "stdout",
     "output_type": "stream",
     "text": [
      "hello\n"
     ]
    }
   ],
   "source": [
    "# In the first three blocks, the variables a, b, c and d were numbers (integers)\n",
    "# Variables can be strings (i.e. letters) as well as numbers, if they're in quotes\n",
    "\n",
    "e = \"hello\"\n",
    "print (e)"
   ]
  },
  {
   "cell_type": "code",
   "execution_count": 8,
   "metadata": {},
   "outputs": [
    {
     "name": "stdout",
     "output_type": "stream",
     "text": [
      "hello\n",
      "goodbye\n",
      "hellogoodbye\n"
     ]
    }
   ],
   "source": [
    "# For two strings, Python concatenates them with '+'\n",
    "# Try to: see what happens if you add a number and a string together\n",
    "\n",
    "f = \"goodbye\"\n",
    "g = e + f\n",
    "print (e)\n",
    "print (f)\n",
    "print (g)"
   ]
  },
  {
   "cell_type": "code",
   "execution_count": 9,
   "metadata": {},
   "outputs": [
    {
     "name": "stdout",
     "output_type": "stream",
     "text": [
      "6\n"
     ]
    }
   ],
   "source": [
    "# Functions capture bits of code you want to run again and again. They can make\n",
    "# code easier to read as you use readable names for them.\n",
    "\n",
    "# In Python, functions begin with the word 'def', and they take parameters (here 'x' and 'y')\n",
    "# Try to: change the numbers you pass into the function\n",
    "\n",
    "def add_two_numbers(x,y):\n",
    "    result = x + y\n",
    "    return result\n",
    "\n",
    "h = add_two_numbers(1, 5)\n",
    "print (h)"
   ]
  },
  {
   "cell_type": "code",
   "execution_count": 10,
   "metadata": {},
   "outputs": [
    {
     "name": "stdout",
     "output_type": "stream",
     "text": [
      "7\n"
     ]
    }
   ],
   "source": [
    "# We just passed two numbers to the function add_two_numbers\n",
    "# It's also possible to pass variables\n",
    "# Try to: change the values of 'a' and 'b'\n",
    "\n",
    "i = add_two_numbers(a, b)\n",
    "print (i)"
   ]
  },
  {
   "cell_type": "code",
   "execution_count": 11,
   "metadata": {},
   "outputs": [],
   "source": [
    "# We can have lots of different functions -  this one currently does the wrong thing\n",
    "# Try to: change this to give the correct result and print it out\n",
    "\n",
    "def multiply_two_numbers(x,y):\n",
    "    result = x + y\n",
    "    return result"
   ]
  },
  {
   "cell_type": "code",
   "execution_count": 12,
   "metadata": {},
   "outputs": [
    {
     "name": "stdout",
     "output_type": "stream",
     "text": [
      "b is larger than a\n"
     ]
    }
   ],
   "source": [
    "# if statements let you decide between two or more things using \n",
    "# keywords if, elif and else ('elif' is shorthand for 'else if')\n",
    "# \n",
    "# if <thing1 is true>:\n",
    "#     <do something>\n",
    "# elif <thing2 is true>:\n",
    "#     <do something different>\n",
    "# else:\n",
    "#     <do something completely different>\n",
    "# \n",
    "# Try to: change the function to return the smallest of two numbers\n",
    "\n",
    "def compare_two_numbers(a,b):\n",
    "    if a > b:\n",
    "        result = \"a is larger than b\"\n",
    "    elif a == b:\n",
    "        result = \"a and b are the same\"\n",
    "    else:\n",
    "        result = \"b is larger than a\"\n",
    "    return result\n",
    "\n",
    "j = compare_two_numbers(1,5)\n",
    "print (j)"
   ]
  },
  {
   "cell_type": "code",
   "execution_count": 13,
   "metadata": {},
   "outputs": [
    {
     "name": "stdout",
     "output_type": "stream",
     "text": [
      "3\n"
     ]
    }
   ],
   "source": [
    "# Python has lots of functions already written that we can use without\n",
    "# having to write our own.\n",
    "#\n",
    "# 'from LIB import FUNCTION' imports a function from a library\n",
    "\n",
    "from random import randint\n",
    "\n",
    "# Now we've imported the function, we can use it without needing to write\n",
    "# it or care how it works\n",
    "#\n",
    "# This creates a random number from 0 to 5. Try running this a few times.\n",
    "k = randint(0,5)\n",
    "print (k)"
   ]
  },
  {
   "cell_type": "code",
   "execution_count": 14,
   "metadata": {},
   "outputs": [
    {
     "name": "stdout",
     "output_type": "stream",
     "text": [
      "['Harry Potter', 'Hermione Granger', 'Bellatrix Lestrange', 'Draco Malfoy', 'Ron Weasley', 'Severus Snape', 'Cedric Diggory', 'Gilderoy Lockhart']\n",
      "Harry Potter\n",
      "8\n",
      "Gilderoy Lockhart\n"
     ]
    }
   ],
   "source": [
    "# We have used integers and strings so far. Python also lets us create a \n",
    "# list (also called an 'array')\n",
    "#\n",
    "# 'm' is a list of strings\n",
    "m = [\"Harry Potter\", \n",
    "     \"Hermione Granger\", \n",
    "     \"Bellatrix Lestrange\",\n",
    "     \"Draco Malfoy\",\n",
    "     \"Ron Weasley\",\n",
    "     \"Severus Snape\",\n",
    "     \"Cedric Diggory\",\n",
    "     \"Gilderoy Lockhart\"]\n",
    "print (m)\n",
    "\n",
    "# lists are accessed by position and square brackets. The first entry is in position 0.\n",
    "print (m[0])\n",
    "\n",
    "# you can find the length of an array with the function 'len'\n",
    "print (len(m))\n",
    "\n",
    "# you can get to the last entry\n",
    "print (m[len(m)-1])"
   ]
  },
  {
   "cell_type": "code",
   "execution_count": 22,
   "metadata": {},
   "outputs": [
    {
     "name": "stdout",
     "output_type": "stream",
     "text": [
      "Severus Snape\n"
     ]
    }
   ],
   "source": [
    "# Sometimes it's good for a voice interface to change the response it gives, to make\n",
    "# the interaction more interesting. For example, in repsonse to the user asking \n",
    "# 'Name a Harry Potter character'\n",
    "#\n",
    "# Using the random number generator, you can print a random entry from the \n",
    "# list of Harry Potter characters\n",
    "\n",
    "idx = randint(0,len(m)-1)\n",
    "print (m[idx])"
   ]
  },
  {
   "cell_type": "code",
   "execution_count": 23,
   "metadata": {},
   "outputs": [
    {
     "name": "stdout",
     "output_type": "stream",
     "text": [
      "Slytherin\n"
     ]
    }
   ],
   "source": [
    "# We can start to make more interesting responses by letting the user ask more\n",
    "# specific questions, e.g. 'Which house does Draco Malfoy belong to?'\n",
    "\n",
    "def sorting_hat(person):\n",
    "    if person == \"Draco Malfoy\" or person == \"Severus Snape\" or person == \"Bellatrix Lestrange\":\n",
    "        result = \"Slytherin\"\n",
    "    elif person == \"Cedric Diggory\":\n",
    "        result = \"Hufflepuff\"\n",
    "    elif person == \"Gilderoy Lockhart\":\n",
    "        result = \"Ravenclaw\"\n",
    "    else:\n",
    "        result = \"Gryffindor\"\n",
    "    return result\n",
    "\n",
    "house = sorting_hat(\"Draco Malfoy\")\n",
    "print (house)"
   ]
  },
  {
   "cell_type": "code",
   "execution_count": 24,
   "metadata": {},
   "outputs": [
    {
     "name": "stdout",
     "output_type": "stream",
     "text": [
      "Cedric Diggory belongs in Hufflepuff\n"
     ]
    }
   ],
   "source": [
    "# Finally, we can create more engaging content by putting together full sentences \n",
    "# as responses to user questions\n",
    "\n",
    "idx = randint(0,len(m)-1)\n",
    "person = m[idx]\n",
    "house = sorting_hat(person)\n",
    "print (person + \" belongs in \" + house)"
   ]
  },
  {
   "cell_type": "code",
   "execution_count": 25,
   "metadata": {},
   "outputs": [
    {
     "name": "stdout",
     "output_type": "stream",
     "text": [
      "Harry Potter's house is Gryffindor\n"
     ]
    }
   ],
   "source": [
    "# BONUS: python dictionaries\n",
    "# In the sorting_hat function, there is a long 'if/then/else' block \n",
    "# to match people to houses. Adding lots more people to the long block \n",
    "# will be messy and complicated.\n",
    "# A better way is to keep the information in a separate data structure such\n",
    "# as a python dictionary. A dictionary is a set of (key, value) pairs, and is \n",
    "# created with the {} brackets. In this dictionary, the names of people are \n",
    "# the keys, and the houses they belong to are the values. Now the sorting hat\n",
    "# function can ask the dictionary for the answer.\n",
    "\n",
    "house_dict = {\n",
    "    \"Severus Snape\" : \"Slytherin\",\n",
    "    \"Draco Malfoy\" : \"Slytherin\",\n",
    "    \"Bellatrix Lestrange\" : \"Slytherin\",\n",
    "    \"Harry Potter\" : \"Gryffindor\",\n",
    "    \"Cedric Diggory\" : \"Hufflepuff\",\n",
    "    \"Gilderoy Lockhart\" : \"Ravenclaw\",\n",
    "}\n",
    "\n",
    "def sorting_hat_with_dict(person):\n",
    "    if person in house_dict.keys():\n",
    "        house = house_dict[person]\n",
    "    else:\n",
    "        house = \"unknown\"\n",
    "    return house\n",
    "\n",
    "person = \"Harry Potter\"\n",
    "house = sorting_hat_with_dict(person)\n",
    "print (person + \"'s house is \" + house)"
   ]
  },
  {
   "cell_type": "code",
   "execution_count": 26,
   "metadata": {},
   "outputs": [],
   "source": [
    "# Try to: have a go at writing your own function that could create a voice response!"
   ]
  }
 ],
 "metadata": {
  "kernelspec": {
   "display_name": "Python 3",
   "language": "python",
   "name": "python3"
  },
  "language_info": {
   "codemirror_mode": {
    "name": "ipython",
    "version": 3
   },
   "file_extension": ".py",
   "mimetype": "text/x-python",
   "name": "python",
   "nbconvert_exporter": "python",
   "pygments_lexer": "ipython3",
   "version": "3.7.3"
  }
 },
 "nbformat": 4,
 "nbformat_minor": 1
}
